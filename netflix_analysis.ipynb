{
 "cells": [
  {
   "cell_type": "markdown",
   "metadata": {},
   "source": [
    "## Importando Bibliotecas"
   ]
  },
  {
   "cell_type": "code",
   "execution_count": 2,
   "metadata": {},
   "outputs": [],
   "source": [
    "import pandas as pd\n",
    "import numpy as np\n",
    "import matplotlib.pyplot as plt\n",
    "import seaborn as sns"
   ]
  },
  {
   "cell_type": "markdown",
   "metadata": {},
   "source": [
    "##### Importando o dataset"
   ]
  },
  {
   "cell_type": "code",
   "execution_count": 3,
   "metadata": {},
   "outputs": [
    {
     "data": {
      "text/html": [
       "<div>\n",
       "<style scoped>\n",
       "    .dataframe tbody tr th:only-of-type {\n",
       "        vertical-align: middle;\n",
       "    }\n",
       "\n",
       "    .dataframe tbody tr th {\n",
       "        vertical-align: top;\n",
       "    }\n",
       "\n",
       "    .dataframe thead th {\n",
       "        text-align: right;\n",
       "    }\n",
       "</style>\n",
       "<table border=\"1\" class=\"dataframe\">\n",
       "  <thead>\n",
       "    <tr style=\"text-align: right;\">\n",
       "      <th></th>\n",
       "      <th>show_id</th>\n",
       "      <th>type</th>\n",
       "      <th>title</th>\n",
       "      <th>director</th>\n",
       "      <th>country</th>\n",
       "      <th>date_added</th>\n",
       "      <th>release_year</th>\n",
       "      <th>rating</th>\n",
       "      <th>duration</th>\n",
       "      <th>listed_in</th>\n",
       "    </tr>\n",
       "  </thead>\n",
       "  <tbody>\n",
       "    <tr>\n",
       "      <th>0</th>\n",
       "      <td>s1</td>\n",
       "      <td>Movie</td>\n",
       "      <td>Dick Johnson Is Dead</td>\n",
       "      <td>Kirsten Johnson</td>\n",
       "      <td>United States</td>\n",
       "      <td>9/25/2021</td>\n",
       "      <td>2020</td>\n",
       "      <td>PG-13</td>\n",
       "      <td>90 min</td>\n",
       "      <td>Documentaries</td>\n",
       "    </tr>\n",
       "    <tr>\n",
       "      <th>1</th>\n",
       "      <td>s3</td>\n",
       "      <td>TV Show</td>\n",
       "      <td>Ganglands</td>\n",
       "      <td>Julien Leclercq</td>\n",
       "      <td>France</td>\n",
       "      <td>9/24/2021</td>\n",
       "      <td>2021</td>\n",
       "      <td>TV-MA</td>\n",
       "      <td>1 Season</td>\n",
       "      <td>Crime TV Shows, International TV Shows, TV Act...</td>\n",
       "    </tr>\n",
       "    <tr>\n",
       "      <th>2</th>\n",
       "      <td>s6</td>\n",
       "      <td>TV Show</td>\n",
       "      <td>Midnight Mass</td>\n",
       "      <td>Mike Flanagan</td>\n",
       "      <td>United States</td>\n",
       "      <td>9/24/2021</td>\n",
       "      <td>2021</td>\n",
       "      <td>TV-MA</td>\n",
       "      <td>1 Season</td>\n",
       "      <td>TV Dramas, TV Horror, TV Mysteries</td>\n",
       "    </tr>\n",
       "    <tr>\n",
       "      <th>3</th>\n",
       "      <td>s14</td>\n",
       "      <td>Movie</td>\n",
       "      <td>Confessions of an Invisible Girl</td>\n",
       "      <td>Bruno Garotti</td>\n",
       "      <td>Brazil</td>\n",
       "      <td>9/22/2021</td>\n",
       "      <td>2021</td>\n",
       "      <td>TV-PG</td>\n",
       "      <td>91 min</td>\n",
       "      <td>Children &amp; Family Movies, Comedies</td>\n",
       "    </tr>\n",
       "    <tr>\n",
       "      <th>4</th>\n",
       "      <td>s8</td>\n",
       "      <td>Movie</td>\n",
       "      <td>Sankofa</td>\n",
       "      <td>Haile Gerima</td>\n",
       "      <td>United States</td>\n",
       "      <td>9/24/2021</td>\n",
       "      <td>1993</td>\n",
       "      <td>TV-MA</td>\n",
       "      <td>125 min</td>\n",
       "      <td>Dramas, Independent Movies, International Movies</td>\n",
       "    </tr>\n",
       "    <tr>\n",
       "      <th>...</th>\n",
       "      <td>...</td>\n",
       "      <td>...</td>\n",
       "      <td>...</td>\n",
       "      <td>...</td>\n",
       "      <td>...</td>\n",
       "      <td>...</td>\n",
       "      <td>...</td>\n",
       "      <td>...</td>\n",
       "      <td>...</td>\n",
       "      <td>...</td>\n",
       "    </tr>\n",
       "    <tr>\n",
       "      <th>8785</th>\n",
       "      <td>s8797</td>\n",
       "      <td>TV Show</td>\n",
       "      <td>Yunus Emre</td>\n",
       "      <td>Not Given</td>\n",
       "      <td>Turkey</td>\n",
       "      <td>1/17/2017</td>\n",
       "      <td>2016</td>\n",
       "      <td>TV-PG</td>\n",
       "      <td>2 Seasons</td>\n",
       "      <td>International TV Shows, TV Dramas</td>\n",
       "    </tr>\n",
       "    <tr>\n",
       "      <th>8786</th>\n",
       "      <td>s8798</td>\n",
       "      <td>TV Show</td>\n",
       "      <td>Zak Storm</td>\n",
       "      <td>Not Given</td>\n",
       "      <td>United States</td>\n",
       "      <td>9/13/2018</td>\n",
       "      <td>2016</td>\n",
       "      <td>TV-Y7</td>\n",
       "      <td>3 Seasons</td>\n",
       "      <td>Kids' TV</td>\n",
       "    </tr>\n",
       "    <tr>\n",
       "      <th>8787</th>\n",
       "      <td>s8801</td>\n",
       "      <td>TV Show</td>\n",
       "      <td>Zindagi Gulzar Hai</td>\n",
       "      <td>Not Given</td>\n",
       "      <td>Pakistan</td>\n",
       "      <td>12/15/2016</td>\n",
       "      <td>2012</td>\n",
       "      <td>TV-PG</td>\n",
       "      <td>1 Season</td>\n",
       "      <td>International TV Shows, Romantic TV Shows, TV ...</td>\n",
       "    </tr>\n",
       "    <tr>\n",
       "      <th>8788</th>\n",
       "      <td>s8784</td>\n",
       "      <td>TV Show</td>\n",
       "      <td>Yoko</td>\n",
       "      <td>Not Given</td>\n",
       "      <td>Pakistan</td>\n",
       "      <td>6/23/2018</td>\n",
       "      <td>2016</td>\n",
       "      <td>TV-Y</td>\n",
       "      <td>1 Season</td>\n",
       "      <td>Kids' TV</td>\n",
       "    </tr>\n",
       "    <tr>\n",
       "      <th>8789</th>\n",
       "      <td>s8786</td>\n",
       "      <td>TV Show</td>\n",
       "      <td>YOM</td>\n",
       "      <td>Not Given</td>\n",
       "      <td>Pakistan</td>\n",
       "      <td>6/7/2018</td>\n",
       "      <td>2016</td>\n",
       "      <td>TV-Y7</td>\n",
       "      <td>1 Season</td>\n",
       "      <td>Kids' TV</td>\n",
       "    </tr>\n",
       "  </tbody>\n",
       "</table>\n",
       "<p>8790 rows × 10 columns</p>\n",
       "</div>"
      ],
      "text/plain": [
       "     show_id     type                             title         director  \\\n",
       "0         s1    Movie              Dick Johnson Is Dead  Kirsten Johnson   \n",
       "1         s3  TV Show                         Ganglands  Julien Leclercq   \n",
       "2         s6  TV Show                     Midnight Mass    Mike Flanagan   \n",
       "3        s14    Movie  Confessions of an Invisible Girl    Bruno Garotti   \n",
       "4         s8    Movie                           Sankofa     Haile Gerima   \n",
       "...      ...      ...                               ...              ...   \n",
       "8785   s8797  TV Show                        Yunus Emre        Not Given   \n",
       "8786   s8798  TV Show                         Zak Storm        Not Given   \n",
       "8787   s8801  TV Show                Zindagi Gulzar Hai        Not Given   \n",
       "8788   s8784  TV Show                              Yoko        Not Given   \n",
       "8789   s8786  TV Show                               YOM        Not Given   \n",
       "\n",
       "            country  date_added  release_year rating   duration  \\\n",
       "0     United States   9/25/2021          2020  PG-13     90 min   \n",
       "1            France   9/24/2021          2021  TV-MA   1 Season   \n",
       "2     United States   9/24/2021          2021  TV-MA   1 Season   \n",
       "3            Brazil   9/22/2021          2021  TV-PG     91 min   \n",
       "4     United States   9/24/2021          1993  TV-MA    125 min   \n",
       "...             ...         ...           ...    ...        ...   \n",
       "8785         Turkey   1/17/2017          2016  TV-PG  2 Seasons   \n",
       "8786  United States   9/13/2018          2016  TV-Y7  3 Seasons   \n",
       "8787       Pakistan  12/15/2016          2012  TV-PG   1 Season   \n",
       "8788       Pakistan   6/23/2018          2016   TV-Y   1 Season   \n",
       "8789       Pakistan    6/7/2018          2016  TV-Y7   1 Season   \n",
       "\n",
       "                                              listed_in  \n",
       "0                                         Documentaries  \n",
       "1     Crime TV Shows, International TV Shows, TV Act...  \n",
       "2                    TV Dramas, TV Horror, TV Mysteries  \n",
       "3                    Children & Family Movies, Comedies  \n",
       "4      Dramas, Independent Movies, International Movies  \n",
       "...                                                 ...  \n",
       "8785                  International TV Shows, TV Dramas  \n",
       "8786                                           Kids' TV  \n",
       "8787  International TV Shows, Romantic TV Shows, TV ...  \n",
       "8788                                           Kids' TV  \n",
       "8789                                           Kids' TV  \n",
       "\n",
       "[8790 rows x 10 columns]"
      ]
     },
     "execution_count": 3,
     "metadata": {},
     "output_type": "execute_result"
    }
   ],
   "source": [
    "frame = pd.read_csv('netflix1.csv')\n",
    "frame"
   ]
  },
  {
   "cell_type": "code",
   "execution_count": 4,
   "metadata": {},
   "outputs": [
    {
     "data": {
      "text/plain": [
       "show_id         0\n",
       "type            0\n",
       "title           0\n",
       "director        0\n",
       "country         0\n",
       "date_added      0\n",
       "release_year    0\n",
       "rating          0\n",
       "duration        0\n",
       "listed_in       0\n",
       "dtype: int64"
      ]
     },
     "execution_count": 4,
     "metadata": {},
     "output_type": "execute_result"
    }
   ],
   "source": [
    "# Checking if we have null values in our dataframe.\n",
    "frame.isnull().sum()"
   ]
  },
  {
   "cell_type": "code",
   "execution_count": 5,
   "metadata": {},
   "outputs": [
    {
     "name": "stdout",
     "output_type": "stream",
     "text": [
      "<class 'pandas.core.frame.DataFrame'>\n",
      "RangeIndex: 8790 entries, 0 to 8789\n",
      "Data columns (total 10 columns):\n",
      " #   Column        Non-Null Count  Dtype \n",
      "---  ------        --------------  ----- \n",
      " 0   show_id       8790 non-null   object\n",
      " 1   type          8790 non-null   object\n",
      " 2   title         8790 non-null   object\n",
      " 3   director      8790 non-null   object\n",
      " 4   country       8790 non-null   object\n",
      " 5   date_added    8790 non-null   object\n",
      " 6   release_year  8790 non-null   int64 \n",
      " 7   rating        8790 non-null   object\n",
      " 8   duration      8790 non-null   object\n",
      " 9   listed_in     8790 non-null   object\n",
      "dtypes: int64(1), object(9)\n",
      "memory usage: 686.8+ KB\n"
     ]
    }
   ],
   "source": [
    "frame.info()"
   ]
  },
  {
   "cell_type": "code",
   "execution_count": 6,
   "metadata": {},
   "outputs": [
    {
     "data": {
      "text/plain": [
       "show_id                 object\n",
       "type                    object\n",
       "title                   object\n",
       "director                object\n",
       "country                 object\n",
       "date_added      datetime64[ns]\n",
       "release_year             int64\n",
       "rating                  object\n",
       "duration                object\n",
       "listed_in               object\n",
       "dtype: object"
      ]
     },
     "execution_count": 6,
     "metadata": {},
     "output_type": "execute_result"
    }
   ],
   "source": [
    "# Converting the type of some columns\n",
    "frame = frame.astype({\"date_added\": \"datetime64[ns]\"})\n",
    "frame.dtypes"
   ]
  },
  {
   "cell_type": "code",
   "execution_count": 7,
   "metadata": {},
   "outputs": [
    {
     "data": {
      "text/html": [
       "<div>\n",
       "<style scoped>\n",
       "    .dataframe tbody tr th:only-of-type {\n",
       "        vertical-align: middle;\n",
       "    }\n",
       "\n",
       "    .dataframe tbody tr th {\n",
       "        vertical-align: top;\n",
       "    }\n",
       "\n",
       "    .dataframe thead th {\n",
       "        text-align: right;\n",
       "    }\n",
       "</style>\n",
       "<table border=\"1\" class=\"dataframe\">\n",
       "  <thead>\n",
       "    <tr style=\"text-align: right;\">\n",
       "      <th></th>\n",
       "      <th>date_added</th>\n",
       "      <th>release_year</th>\n",
       "    </tr>\n",
       "  </thead>\n",
       "  <tbody>\n",
       "    <tr>\n",
       "      <th>count</th>\n",
       "      <td>8790</td>\n",
       "      <td>8790.000000</td>\n",
       "    </tr>\n",
       "    <tr>\n",
       "      <th>mean</th>\n",
       "      <td>2019-05-17 21:44:01.638225408</td>\n",
       "      <td>2014.183163</td>\n",
       "    </tr>\n",
       "    <tr>\n",
       "      <th>min</th>\n",
       "      <td>2008-01-01 00:00:00</td>\n",
       "      <td>1925.000000</td>\n",
       "    </tr>\n",
       "    <tr>\n",
       "      <th>25%</th>\n",
       "      <td>2018-04-06 00:00:00</td>\n",
       "      <td>2013.000000</td>\n",
       "    </tr>\n",
       "    <tr>\n",
       "      <th>50%</th>\n",
       "      <td>2019-07-03 00:00:00</td>\n",
       "      <td>2017.000000</td>\n",
       "    </tr>\n",
       "    <tr>\n",
       "      <th>75%</th>\n",
       "      <td>2020-08-19 18:00:00</td>\n",
       "      <td>2019.000000</td>\n",
       "    </tr>\n",
       "    <tr>\n",
       "      <th>max</th>\n",
       "      <td>2021-09-25 00:00:00</td>\n",
       "      <td>2021.000000</td>\n",
       "    </tr>\n",
       "    <tr>\n",
       "      <th>std</th>\n",
       "      <td>NaN</td>\n",
       "      <td>8.825466</td>\n",
       "    </tr>\n",
       "  </tbody>\n",
       "</table>\n",
       "</div>"
      ],
      "text/plain": [
       "                          date_added  release_year\n",
       "count                           8790   8790.000000\n",
       "mean   2019-05-17 21:44:01.638225408   2014.183163\n",
       "min              2008-01-01 00:00:00   1925.000000\n",
       "25%              2018-04-06 00:00:00   2013.000000\n",
       "50%              2019-07-03 00:00:00   2017.000000\n",
       "75%              2020-08-19 18:00:00   2019.000000\n",
       "max              2021-09-25 00:00:00   2021.000000\n",
       "std                              NaN      8.825466"
      ]
     },
     "execution_count": 7,
     "metadata": {},
     "output_type": "execute_result"
    }
   ],
   "source": [
    "frame.describe()"
   ]
  },
  {
   "cell_type": "code",
   "execution_count": 8,
   "metadata": {},
   "outputs": [],
   "source": [
    "# Pesquisando quantos filmes não tem diretor atribuído ao filme.\n",
    "# frame.loc[frame['director'] == 'Not Given']\n",
    "# directors= frame['director'].value_counts()\n",
    "# directors.head(10)"
   ]
  },
  {
   "cell_type": "code",
   "execution_count": 9,
   "metadata": {},
   "outputs": [
    {
     "data": {
      "text/plain": [
       "country\n",
       "United States     3240\n",
       "India             1057\n",
       "United Kingdom     638\n",
       "Pakistan           421\n",
       "Not Given          287\n",
       "                  ... \n",
       "Namibia              1\n",
       "Iran                 1\n",
       "West Germany         1\n",
       "Greece               1\n",
       "Mozambique           1\n",
       "Name: count, Length: 85, dtype: int64"
      ]
     },
     "execution_count": 9,
     "metadata": {},
     "output_type": "execute_result"
    }
   ],
   "source": [
    "# Alterando o país Soviet Union para Russia.\n",
    "frame.loc[frame['country'] == 'Soviet Union', 'country'] = 'Russia'\n",
    "count_country = frame['country'].value_counts()\n",
    "count_country"
   ]
  },
  {
   "cell_type": "code",
   "execution_count": 10,
   "metadata": {},
   "outputs": [],
   "source": [
    "# Para que seja mais fácil visualizarmos o gráfico, irei atribuir o país para a sua defida região.\n",
    "country_to_region = {\n",
    "    'United States': 'NA',\n",
    "    'Canada': 'NA',\n",
    "    'India' : 'APAC',\n",
    "    'United Kingdom': 'EMEA',\n",
    "    'Pakistan': 'APAC',\n",
    "    'West Germany': 'EMEA',\n",
    "    'Greece': 'EMEA',\n",
    "    'Zimbabew': 'APAC',\n",
    "    'Russia': 'EMEA',\n",
    "    'France': 'EMEA',\n",
    "    'Brazil': 'LATAM',\n",
    "    'Mexico': 'LATAM',\n",
    "    'Colombia': 'LATAM',\n",
    "    'Peru': 'LATAM',\n",
    "    'Argentina': 'LATAM',\n",
    "    'Puerto Rico': 'LATAM',\n",
    "    'Venezuela': 'LATAM',\n",
    "    'Paraguay': 'LATAM',\n",
    "    'Uruguay': 'LATAM',\n",
    "    'Jamaica': 'LATAM',\n",
    "    'Guatemala': 'LATAM',\n",
    "    'Chile': 'LATAM',\n",
    "    'Switzerland': 'EMEA',\n",
    "    'Mozambique': 'EMEA',\n",
    "    'Turkey': 'EMEA',\n",
    "    'Italy': 'EMEA',\n",
    "    'Germany': 'EMEA',\n",
    "    'Poland': 'EMEA',\n",
    "    'Norway': 'EMEA',\n",
    "    'Spain': 'EMEA',\n",
    "    'Sweden': 'EMEA',\n",
    "    'Ireland': 'EMEA',\n",
    "    'Ukraine': 'EMEA',\n",
    "    'Belgium': 'EMEA',\n",
    "    'Denmark': 'EMEA',\n",
    "    'Croatia': 'EMEA',\n",
    "    'Austria': 'EMEA',\n",
    "    'Czech Republic': 'EMEA',\n",
    "    'Bulgaria': 'EMEA',\n",
    "    'Romania': 'EMEA',\n",
    "    'Finland': 'EMEA',\n",
    "    'Cyprus': 'EMEA',\n",
    "    'New Zealand': 'EMEA',\n",
    "    'Belarus': 'EMEA',\n",
    "    'Netherlands': 'EMEA',\n",
    "    'Mauritius': 'EMEA',\n",
    "    'Jordan': 'EMEA',\n",
    "    'Zimbabwe': 'EMEA',\n",
    "    'Portugal': 'EMEA',\n",
    "    'Egypt': 'EMEA',\n",
    "    'Senegal': 'EMEA',\n",
    "    'Cameroon':'EMEA',\n",
    "    'Namibia': 'EMEA',\n",
    "    'Ghana': 'EMEA',    \n",
    "    'Kenya': 'EMEA',\n",
    "    'Georgia': 'EMEA',\n",
    "    'Hungary': 'EMEA',\n",
    "    'Serbia': 'EMEA',\n",
    "    'Somalia': 'EMEA',\n",
    "    'Luxembourg': 'EMEA',\n",
    "    'Slovenia': 'EMEA',\n",
    "    'Israel': 'APAC',\n",
    "    'Iceland': 'APAC',\n",
    "    'Cambodia': 'APAC',\n",
    "    'Malaysia': 'APAC',\n",
    "    'Singapore': 'APAC',\n",
    "    'Hong Kong': 'APAC',\n",
    "    'Australia': 'APAC',\n",
    "    'South Korea': 'APAC',\n",
    "    'Taiwan': 'APAC',\n",
    "    'Japan': 'APAC',\n",
    "    'China': 'APAC',\n",
    "    'Thailand': 'APAC',\n",
    "    'South Africa': 'APAC',\n",
    "    'Nigeria': 'APAC',\n",
    "    'Philippines': 'APAC',\n",
    "    'Indonesia': 'APAC',\n",
    "    'Nigeria': 'APAC',\n",
    "    'Nigeria': 'APAC',\n",
    "    'Vietnam': 'APAC',\n",
    "    'Kuwait': 'APAC',\n",
    "    'Saudi Arabia': 'APAC',\n",
    "    'Lebanon': 'APAC',\n",
    "    'Syria': 'APAC',\n",
    "    'United Arab Emirates': 'APAC',\n",
    "    'Bangladesh': 'APAC',\n",
    "    'Iran': 'APAC',\n",
    "    'Syria': 'APAC',\n",
    "    'Not Given': 'TBD'\n",
    "    \n",
    "}\n",
    "frame['region'] = frame['country'].map(country_to_region)\n",
    "\n",
    "#Confirmando se temos mais algum país que não tem região.\n",
    "# null_region = frame.loc[frame['region'].isna()]\n",
    "# null_region"
   ]
  },
  {
   "cell_type": "code",
   "execution_count": 11,
   "metadata": {},
   "outputs": [
    {
     "data": {
      "text/plain": [
       "<Axes: ylabel='region'>"
      ]
     },
     "execution_count": 11,
     "metadata": {},
     "output_type": "execute_result"
    },
    {
     "data": {
      "image/png": "[encoded data removed]",
      "text/plain": [
       "<Figure size 640x480 with 1 Axes>"
      ]
     },
     "metadata": {},
     "output_type": "display_data"
    }
   ],
   "source": [
    "# Vamos visualizar em um gráfico utilizando o sns.\n",
    "sns.barplot(frame['region'])"
   ]
  },
  {
   "cell_type": "code",
   "execution_count": 30,
   "metadata": {},
   "outputs": [
    {
     "data": {
      "image/png": "[encoded data removed]",
      "text/plain": [
       "<Figure size 1600x900 with 1 Axes>"
      ]
     },
     "metadata": {},
     "output_type": "display_data"
    }
   ],
   "source": [
    "# Criando um dataframe com região e o total de filmes para cada uma.\n",
    "count = frame['region'].value_counts()\n",
    "# Colocando o nosso dataframe em ordem ascendente.\n",
    "count_frame = count.reset_index().sort_values('count')\n",
    "# nome para as colunas.\n",
    "count_frame.columns=['region', 'count']\n",
    "count_frame\n",
    "\n",
    "#Criando variaveis para armazenar região e a qtd de filmes para cada uma.\n",
    "Region = count_frame['region']\n",
    "Qtd = count_frame['count']\n",
    "\n",
    "# Criando uma lista com diferentes tons de cinza\n",
    "colors = [str(i/len(Region)) for i in range(len(Region))]\n",
    "\n",
    "fig, ax = plt.subplots(figsize=(16,9))\n",
    "\n",
    "bars = ax.barh(Region, Qtd, color=colors)\n",
    "\n",
    "#Adicionando um título, legenda e rótulo de dados\n",
    "ax.set_title('Quantidade de Filmes por Região', loc='center')\n",
    "ax.legend(bars, Region)\n",
    "ax.bar_label(bars, fontsize=9)\n",
    "\n",
    "# Plotando o gráfico.\n",
    "plt.show()"
   ]
  },
  {
   "cell_type": "code",
   "execution_count": 18,
   "metadata": {},
   "outputs": [
    {
     "data": {
      "text/plain": [
       "([<matplotlib.patches.Wedge at 0x24e4447ee90>,\n",
       "  <matplotlib.patches.Wedge at 0x24e45414c90>],\n",
       " [Text(-0.6379461266276708, 0.8961164765368127, 'Movie'),\n",
       "  Text(0.6379461266276707, -0.8961164765368128, 'TV Show')],\n",
       " [Text(-0.34797061452418404, 0.48879080538371594, '69.7%'),\n",
       "  Text(0.347970614524184, -0.488790805383716, '30.3%')])"
      ]
     },
     "execution_count": 18,
     "metadata": {},
     "output_type": "execute_result"
    },
    {
     "data": {
      "image/png": "[encoded data removed]",
      "text/plain": [
       "<Figure size 640x480 with 1 Axes>"
      ]
     },
     "metadata": {},
     "output_type": "display_data"
    }
   ],
   "source": [
    "# Vamos criar um novo dataframe para termos os tipos e o total de cada um.\n",
    "movie_types = frame['type'].value_counts()\n",
    "movie_types = movie_types.reset_index()\n",
    "# nome para as colunas.\n",
    "movie_types.columns=['type','count']\n",
    "movie_types\n",
    "\n",
    "#Criando variaveis para armazenar tipos e o total de cada tipo.\n",
    "types = movie_types['type']\n",
    "counts = movie_types['count']\n",
    "\n",
    "fig, ax = plt.subplots()\n",
    "\n",
    "ax.pie(counts, labels=types, autopct='%1.1f%%', colors=['orange','gray'])"
   ]
  },
  {
   "cell_type": "code",
   "execution_count": 31,
   "metadata": {},
   "outputs": [
    {
     "data": {
      "image/png": "[encoded data removed]",
      "text/plain": [
       "<Figure size 1600x900 with 1 Axes>"
      ]
     },
     "metadata": {},
     "output_type": "display_data"
    }
   ],
   "source": [
    "# Avaliações dos filmes. Iremos plotar no gráfico somente os 10 primeiros rating utilizando o iloc.\n",
    "rating = (frame['rating'].value_counts()).iloc[:10]\n",
    "# Colocando o nosso dataframe em ordem ascendente.\n",
    "rating = rating.reset_index().sort_values('count')\n",
    "# nome para as colunas.\n",
    "rating.columns = ['rating','count_rating']\n",
    "rating\n",
    "\n",
    "rating_all = rating['rating']\n",
    "count_rating = rating['count_rating']\n",
    "\n",
    "colors = [str(i/len(rating_all)) for i in range(len(rating_all))]\n",
    "\n",
    "fig, ax = plt.subplots(figsize=(16,9))\n",
    "bars = ax.barh(rating_all, count_rating, color=colors)\n",
    "\n",
    "#Adicionando um título, legenda e rótulo de dados\n",
    "ax.set_title(\"QTD por rating\", loc=\"center\")\n",
    "ax.legend(bars, rating_all)\n",
    "ax.bar_label(bars,fontsize=9)\n",
    "\n",
    "\n",
    "\n",
    "plt.show()"
   ]
  }
 ],
 "metadata": {
  "kernelspec": {
   "display_name": "Python 3",
   "language": "python",
   "name": "python3"
  },
  "language_info": {
   "codemirror_mode": {
    "name": "ipython",
    "version": 3
   },
   "file_extension": ".py",
   "mimetype": "text/x-python",
   "name": "python",
   "nbconvert_exporter": "python",
   "pygments_lexer": "ipython3",
   "version": "3.11.3"
  }
 },
 "nbformat": 4,
 "nbformat_minor": 2
}
